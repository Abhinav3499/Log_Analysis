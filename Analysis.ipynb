{
 "cells": [
  {
   "cell_type": "markdown",
   "metadata": {},
   "source": [
    "### Import necessary modules"
   ]
  },
  {
   "cell_type": "code",
   "execution_count": 10,
   "metadata": {},
   "outputs": [],
   "source": [
    "import re  # For regular expression matching\n",
    "import pandas as pd\n",
    "import csv\n"
   ]
  },
  {
   "cell_type": "markdown",
   "metadata": {},
   "source": [
    "### Parsing the Log file\n"
   ]
  },
  {
   "cell_type": "code",
   "execution_count": 19,
   "metadata": {},
   "outputs": [],
   "source": [
    "# Change the path of log file to perform the analysis on different log file \n",
    "log_file = \"sample.log\"  # Path to the log file, Here we can also prompt the user to upload the log file if necessary\n",
    "logs = [] \n",
    "\n",
    "log_pattern = r'(?P<ip>\\S+) - - \\[.*\\] \"(?P<method>\\S+) (?P<path>\\S+) \\S+\" (?P<status>\\d+) .*'  # Regular expression for parsing logs\n",
    "\n",
    "with open(log_file, \"r\") as file:\n",
    "    for line in file:\n",
    "        match = re.match(log_pattern, line)  # Match the line with the log pattern\n",
    "        if match:\n",
    "            logs.append(match.groupdict())  # Store parsed data as a dictionary\n"
   ]
  },
  {
   "cell_type": "markdown",
   "metadata": {},
   "source": [
    "### Analyzing the Log File"
   ]
  },
  {
   "cell_type": "code",
   "execution_count": 16,
   "metadata": {},
   "outputs": [
    {
     "data": {
      "text/html": [
       "<div>\n",
       "<style scoped>\n",
       "    .dataframe tbody tr th:only-of-type {\n",
       "        vertical-align: middle;\n",
       "    }\n",
       "\n",
       "    .dataframe tbody tr th {\n",
       "        vertical-align: top;\n",
       "    }\n",
       "\n",
       "    .dataframe thead th {\n",
       "        text-align: right;\n",
       "    }\n",
       "</style>\n",
       "<table border=\"1\" class=\"dataframe\">\n",
       "  <thead>\n",
       "    <tr style=\"text-align: right;\">\n",
       "      <th></th>\n",
       "      <th>ip</th>\n",
       "      <th>method</th>\n",
       "      <th>path</th>\n",
       "      <th>status</th>\n",
       "    </tr>\n",
       "  </thead>\n",
       "  <tbody>\n",
       "    <tr>\n",
       "      <th>0</th>\n",
       "      <td>192.168.1.1</td>\n",
       "      <td>GET</td>\n",
       "      <td>/home</td>\n",
       "      <td>200</td>\n",
       "    </tr>\n",
       "    <tr>\n",
       "      <th>1</th>\n",
       "      <td>203.0.113.5</td>\n",
       "      <td>POST</td>\n",
       "      <td>/login</td>\n",
       "      <td>401</td>\n",
       "    </tr>\n",
       "    <tr>\n",
       "      <th>2</th>\n",
       "      <td>10.0.0.2</td>\n",
       "      <td>GET</td>\n",
       "      <td>/about</td>\n",
       "      <td>200</td>\n",
       "    </tr>\n",
       "    <tr>\n",
       "      <th>3</th>\n",
       "      <td>192.168.1.1</td>\n",
       "      <td>GET</td>\n",
       "      <td>/contact</td>\n",
       "      <td>200</td>\n",
       "    </tr>\n",
       "    <tr>\n",
       "      <th>4</th>\n",
       "      <td>198.51.100.23</td>\n",
       "      <td>POST</td>\n",
       "      <td>/register</td>\n",
       "      <td>200</td>\n",
       "    </tr>\n",
       "  </tbody>\n",
       "</table>\n",
       "</div>"
      ],
      "text/plain": [
       "              ip method       path status\n",
       "0    192.168.1.1    GET      /home    200\n",
       "1    203.0.113.5   POST     /login    401\n",
       "2       10.0.0.2    GET     /about    200\n",
       "3    192.168.1.1    GET   /contact    200\n",
       "4  198.51.100.23   POST  /register    200"
      ]
     },
     "execution_count": 16,
     "metadata": {},
     "output_type": "execute_result"
    }
   ],
   "source": [
    "# Create a DataFrame from the parsed logs as it will be helpful in the analysis\n",
    "df = pd.DataFrame(logs)\n",
    "\n",
    "# Requests per IP Address\n",
    "ip_counts = df['ip'].value_counts()\n",
    "\n",
    "# Most Accessed Endpoint\n",
    "endpoint_counts = df['path'].value_counts().head(1) \n",
    "\n",
    "# Suspicious Activity (Failed Login Attempts)\n",
    "failed_login_counts = df[df['status'] == '401']['ip'].value_counts() \n",
    "suspicious_activity = failed_login_counts[failed_login_counts > 10]  # Filter IPs with more than 10 failed attempts\n",
    "\n",
    "df.head()\n"
   ]
  },
  {
   "cell_type": "markdown",
   "metadata": {},
   "source": [
    "### Saving Results to a CSV File"
   ]
  },
  {
   "cell_type": "code",
   "execution_count": 17,
   "metadata": {},
   "outputs": [],
   "source": [
    "output_file = \"log_analysis_results.csv\"  # Output file path\n",
    "\n",
    "with open(output_file, \"w\", newline='') as csvfile:\n",
    "    writer = csv.writer(csvfile)\n",
    "\n",
    "    # Write Requests per IP to CSV\n",
    "    writer.writerow([\"Requests per IP\"])\n",
    "    writer.writerow([\"IP Address\", \"Request Count\"])\n",
    "    writer.writerows(ip_counts.items())\n",
    "\n",
    "    # Write Most Accessed Endpoint to CSV\n",
    "    writer.writerow([])\n",
    "    writer.writerow([\"Most Accessed Endpoint\"])\n",
    "    writer.writerow([\"Endpoint\", \"Access Count\"])\n",
    "    writer.writerow([endpoint_counts.index[0], endpoint_counts.iloc[0]])\n",
    "\n",
    "    # Write Suspicious Activity to CSV\n",
    "    writer.writerow([])\n",
    "    writer.writerow([\"Suspicious Activity\"])\n",
    "    writer.writerow([\"IP Address\", \"Failed Login Count\"])\n",
    "    writer.writerows(suspicious_activity.items())\n"
   ]
  },
  {
   "cell_type": "markdown",
   "metadata": {},
   "source": [
    "### Printing Results to the Console"
   ]
  },
  {
   "cell_type": "code",
   "execution_count": 18,
   "metadata": {},
   "outputs": [
    {
     "name": "stdout",
     "output_type": "stream",
     "text": [
      "\n",
      "Requests per IP:\n",
      "IP Address           Request Count\n",
      "203.0.113.5          8\n",
      "198.51.100.23        8\n",
      "192.168.1.1          7\n",
      "10.0.0.2             6\n",
      "192.168.1.100        5\n",
      "\n",
      "Most Frequently Accessed Endpoint:\n",
      "/login (Accessed 13 times)\n",
      "\n",
      "Suspicious Activity Detected:\n",
      "IP Address           Failed Login Attempts\n"
     ]
    }
   ],
   "source": [
    "# Print Requests per IP\n",
    "print(\"\\nRequests per IP:\")\n",
    "print(f\"{'IP Address':<20} {'Request Count'}\")\n",
    "for ip, count in ip_counts.items():\n",
    "    print(f\"{ip:<20} {count}\")\n",
    "\n",
    "# Print Most Accessed Endpoint\n",
    "print(\"\\nMost Frequently Accessed Endpoint:\")\n",
    "print(f\"{endpoint_counts.index[0]} (Accessed {endpoint_counts.iloc[0]} times)\")\n",
    "\n",
    "# Print Suspicious Activity\n",
    "print(\"\\nSuspicious Activity Detected:\")\n",
    "print(f\"{'IP Address':<20} {'Failed Login Attempts'}\")\n",
    "for ip, count in suspicious_activity.items():\n",
    "    print(f\"{ip:<20} {count}\")\n"
   ]
  },
  {
   "cell_type": "code",
   "execution_count": null,
   "metadata": {},
   "outputs": [],
   "source": []
  }
 ],
 "metadata": {
  "kernelspec": {
   "display_name": ".venv",
   "language": "python",
   "name": "python3"
  },
  "language_info": {
   "codemirror_mode": {
    "name": "ipython",
    "version": 3
   },
   "file_extension": ".py",
   "mimetype": "text/x-python",
   "name": "python",
   "nbconvert_exporter": "python",
   "pygments_lexer": "ipython3",
   "version": "3.12.1"
  }
 },
 "nbformat": 4,
 "nbformat_minor": 2
}
