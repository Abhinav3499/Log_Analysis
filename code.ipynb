{
 "cells": [
  {
   "cell_type": "markdown",
   "metadata": {},
   "source": [
    "### Import necessary modules"
   ]
  },
  {
   "cell_type": "code",
   "execution_count": 3,
   "metadata": {},
   "outputs": [],
   "source": [
    "import re\n",
    "from collections import Counter\n",
    "import csv"
   ]
  },
  {
   "cell_type": "markdown",
   "metadata": {},
   "source": [
    "### Parsing the Log file\n"
   ]
  },
  {
   "cell_type": "code",
   "execution_count": 7,
   "metadata": {},
   "outputs": [
    {
     "name": "stdout",
     "output_type": "stream",
     "text": [
      "[{'ip': '192.168.1.1', 'method': 'GET', 'path': '/home', 'status': '200'}, {'ip': '203.0.113.5', 'method': 'POST', 'path': '/login', 'status': '401'}, {'ip': '10.0.0.2', 'method': 'GET', 'path': '/about', 'status': '200'}, {'ip': '192.168.1.1', 'method': 'GET', 'path': '/contact', 'status': '200'}, {'ip': '198.51.100.23', 'method': 'POST', 'path': '/register', 'status': '200'}, {'ip': '203.0.113.5', 'method': 'POST', 'path': '/login', 'status': '401'}, {'ip': '192.168.1.100', 'method': 'POST', 'path': '/login', 'status': '401'}, {'ip': '10.0.0.2', 'method': 'GET', 'path': '/dashboard', 'status': '200'}, {'ip': '198.51.100.23', 'method': 'GET', 'path': '/about', 'status': '200'}, {'ip': '192.168.1.1', 'method': 'GET', 'path': '/dashboard', 'status': '200'}, {'ip': '203.0.113.5', 'method': 'POST', 'path': '/login', 'status': '401'}, {'ip': '203.0.113.5', 'method': 'POST', 'path': '/login', 'status': '401'}, {'ip': '192.168.1.100', 'method': 'POST', 'path': '/login', 'status': '401'}, {'ip': '10.0.0.2', 'method': 'GET', 'path': '/profile', 'status': '200'}, {'ip': '192.168.1.1', 'method': 'GET', 'path': '/home', 'status': '200'}, {'ip': '198.51.100.23', 'method': 'POST', 'path': '/feedback', 'status': '200'}, {'ip': '203.0.113.5', 'method': 'POST', 'path': '/login', 'status': '401'}, {'ip': '192.168.1.1', 'method': 'GET', 'path': '/home', 'status': '200'}, {'ip': '198.51.100.23', 'method': 'GET', 'path': '/about', 'status': '200'}, {'ip': '203.0.113.5', 'method': 'POST', 'path': '/login', 'status': '401'}, {'ip': '192.168.1.100', 'method': 'POST', 'path': '/login', 'status': '401'}, {'ip': '10.0.0.2', 'method': 'GET', 'path': '/contact', 'status': '200'}, {'ip': '198.51.100.23', 'method': 'GET', 'path': '/home', 'status': '200'}, {'ip': '192.168.1.100', 'method': 'POST', 'path': '/login', 'status': '401'}, {'ip': '203.0.113.5', 'method': 'POST', 'path': '/login', 'status': '401'}, {'ip': '10.0.0.2', 'method': 'GET', 'path': '/dashboard', 'status': '200'}, {'ip': '192.168.1.1', 'method': 'GET', 'path': '/about', 'status': '200'}, {'ip': '198.51.100.23', 'method': 'POST', 'path': '/register', 'status': '200'}, {'ip': '203.0.113.5', 'method': 'POST', 'path': '/login', 'status': '401'}, {'ip': '192.168.1.100', 'method': 'POST', 'path': '/login', 'status': '401'}, {'ip': '10.0.0.2', 'method': 'GET', 'path': '/profile', 'status': '200'}, {'ip': '198.51.100.23', 'method': 'GET', 'path': '/about', 'status': '200'}, {'ip': '192.168.1.1', 'method': 'GET', 'path': '/home', 'status': '200'}, {'ip': '198.51.100.23', 'method': 'POST', 'path': '/feedback', 'status': '200'}]\n"
     ]
    }
   ],
   "source": [
    "log_file = \"sample.log\"\n",
    "\n",
    "with open(log_file, \"r\") as file:\n",
    "    logs = file.readlines()\n",
    "\n",
    "log_pattern = r'(?P<ip>\\S+) - - \\[.*\\] \"(?P<method>\\S+) (?P<path>\\S+) \\S+\" (?P<status>\\d+) .*'\n",
    "parsed_logs = []\n",
    "for log in logs:\n",
    "    match = re.match(log_pattern, log)\n",
    "    if match:\n",
    "        parsed_logs.append(match.groupdict())\n",
    "\n",
    "print(parsed_logs)"
   ]
  },
  {
   "cell_type": "markdown",
   "metadata": {},
   "source": [
    "### Performaing the log analysis and writing the results to the csv file"
   ]
  },
  {
   "cell_type": "code",
   "execution_count": null,
   "metadata": {},
   "outputs": [
    {
     "name": "stdout",
     "output_type": "stream",
     "text": [
      "\n",
      "Requests per IP:\n",
      "IP Address           Request Count\n",
      "203.0.113.5          8\n",
      "198.51.100.23        8\n",
      "192.168.1.1          7\n",
      "10.0.0.2             6\n",
      "192.168.1.100        5\n",
      "\n",
      "Most Frequently Accessed Endpoint:\n",
      "/login (Accessed 13 times)\n",
      "\n",
      "Suspicious Activity Detected:\n",
      "IP Address           Failed Login Attempts\n"
     ]
    }
   ],
   "source": [
    "\n",
    "output_file = \"log_analysis_results.csv\"\n",
    "threshold = 10\n",
    "\n",
    "ip_counts = Counter(log['ip'] for log in parsed_logs)\n",
    "endpoint_counts = Counter(log['path'] for log in parsed_logs)\n",
    "failed_logins = [log['ip'] for log in parsed_logs if log['status'] == '401']\n",
    "failed_login_counts = Counter(failed_logins)\n",
    "\n",
    "with open(output_file, \"w\", newline='') as csvfile:\n",
    "    writer = csv.writer(csvfile)\n",
    "\n",
    "    writer.writerow([\"Requests per IP\"])\n",
    "    writer.writerow([\"IP Address\", \"Request Count\"])\n",
    "    writer.writerows(ip_counts.most_common())\n",
    "\n",
    "    writer.writerow([])\n",
    "    writer.writerow([\"Most Accessed Endpoint\"])\n",
    "    writer.writerow([\"Endpoint\", \"Access Count\"])\n",
    "    writer.writerow(endpoint_counts.most_common(1)[0])\n",
    "\n",
    "    writer.writerow([])\n",
    "    writer.writerow([\"Suspicious Activity\"])\n",
    "    writer.writerow([\"IP Address\", \"Failed Login Count\"])\n",
    "    writer.writerows([ip for ip in failed_login_counts.items() if ip[1] > threshold])\n",
    "\n",
    "print(\"\\nRequests per IP:\")\n",
    "print(f\"{'IP Address':<20} {'Request Count'}\")\n",
    "for ip, count in ip_counts.most_common():\n",
    "    print(f\"{ip:<20} {count}\")\n",
    "\n",
    "print(\"\\nMost Frequently Accessed Endpoint:\")\n",
    "most_accessed = endpoint_counts.most_common(1)[0]\n",
    "print(f\"{most_accessed[0]} (Accessed {most_accessed[1]} times)\")\n",
    "\n",
    "print(\"\\nSuspicious Activity Detected:\")\n",
    "print(f\"{'IP Address':<20} {'Failed Login Attempts'}\")\n",
    "for ip, count in failed_login_counts.items():\n",
    "    if count > threshold:\n",
    "        print(f\"{ip:<20} {count}\")\n"
   ]
  }
 ],
 "metadata": {
  "kernelspec": {
   "display_name": ".venv",
   "language": "python",
   "name": "python3"
  },
  "language_info": {
   "codemirror_mode": {
    "name": "ipython",
    "version": 3
   },
   "file_extension": ".py",
   "mimetype": "text/x-python",
   "name": "python",
   "nbconvert_exporter": "python",
   "pygments_lexer": "ipython3",
   "version": "3.12.1"
  }
 },
 "nbformat": 4,
 "nbformat_minor": 2
}
